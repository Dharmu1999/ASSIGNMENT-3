{
 "cells": [
  {
   "cell_type": "markdown",
   "id": "afcb12af-b7e9-4ddb-ae4e-201f6cff6045",
   "metadata": {},
   "source": [
    "Q Explainain with an example each when to use a for loop and a while loop\n",
    "\n"
   ]
  },
  {
   "cell_type": "markdown",
   "id": "50ab0230-4f66-495f-82b5-eef8ed685b96",
   "metadata": {},
   "source": [
    "ans=When to use a for loop:\n",
    "A for loop is typically used when you know the exact number of iterations you want to perform or when you need to iterate over a collection of items such as a list, tuple, or string."
   ]
  },
  {
   "cell_type": "code",
   "execution_count": 1,
   "id": "7643050f-d72c-4982-958b-7b60c9868930",
   "metadata": {},
   "outputs": [
    {
     "name": "stdout",
     "output_type": "stream",
     "text": [
      "The sum is: 15\n"
     ]
    }
   ],
   "source": [
    "# for loop\n",
    "numbers = [1, 2, 3, 4, 5]\n",
    "sum = 0\n",
    "for num in numbers:\n",
    "    sum += num\n",
    "print(\"The sum is:\", sum)\n"
   ]
  },
  {
   "cell_type": "markdown",
   "id": "1f38d914-0b58-492d-b9cf-8565e6edefb6",
   "metadata": {},
   "source": [
    "# While loop\n",
    "When to use a while loop:\n",
    "A while loop is typically used when you want to repeatedly execute a block of code as long as a certain condition is true, and you do not know in advance how many times the loop will be executed."
   ]
  },
  {
   "cell_type": "code",
   "execution_count": 2,
   "id": "206dfaad-5b9e-490d-b515-c6bc80a34089",
   "metadata": {},
   "outputs": [
    {
     "name": "stdin",
     "output_type": "stream",
     "text": [
      "Guess the secret number between 1 and 10:  2\n",
      "Guess the secret number between 1 and 10:  7\n"
     ]
    },
    {
     "name": "stdout",
     "output_type": "stream",
     "text": [
      "Congratulations! You guessed the secret number 7\n"
     ]
    }
   ],
   "source": [
    "import random\n",
    "\n",
    "secret_number = random.randint(1, 10)\n",
    "guess = 0\n",
    "while guess != secret_number:\n",
    "    guess = int(input(\"Guess the secret number between 1 and 10: \"))\n",
    "print(\"Congratulations! You guessed the secret number\", secret_number)\n"
   ]
  },
  {
   "cell_type": "markdown",
   "id": "d2439010-cca3-4893-b210-bd3cbe4746f5",
   "metadata": {},
   "source": [
    "# Q.2WRITE THE PYTHON PROGRAM TO PRINT THE SUM AND PRODUCT OF THE FIRST 10 NATURAL NUMBER USING FOR AND WHILE LOOP\n"
   ]
  },
  {
   "cell_type": "code",
   "execution_count": 3,
   "id": "86862cf5-03a8-4c2c-9b46-0f79d13a04e6",
   "metadata": {},
   "outputs": [
    {
     "name": "stdout",
     "output_type": "stream",
     "text": [
      "Sum: 55\n",
      "Product: 3628800\n"
     ]
    }
   ],
   "source": [
    "# for loop\n",
    "# Sum and Product of First 10 Natural Numbers using For Loop\n",
    "\n",
    "# Initialize sum and product to 0\n",
    "sum = 0\n",
    "product = 1\n",
    "\n",
    "# Loop through the numbers 1 to 10 (inclusive)\n",
    "for num in range(1, 11):\n",
    "    # Calculate sum and product\n",
    "    sum += num\n",
    "    product *= num\n",
    "\n",
    "# Print the sum and product\n",
    "print(\"Sum:\", sum)\n",
    "print(\"Product:\", product)\n"
   ]
  },
  {
   "cell_type": "code",
   "execution_count": 4,
   "id": "f25b978d-a80e-4eb0-8793-be151de38106",
   "metadata": {},
   "outputs": [
    {
     "name": "stdout",
     "output_type": "stream",
     "text": [
      "Sum: 55\n",
      "Product: 3628800\n"
     ]
    }
   ],
   "source": [
    "# WHILE LOOP\n",
    "# Sum and Product of First 10 Natural Numbers using While Loop\n",
    "\n",
    "# Initialize sum and product to 0\n",
    "sum = 0\n",
    "product = 1\n",
    "\n",
    "# Initialize counter to 1\n",
    "num = 1\n",
    "\n",
    "# Loop until counter reaches 11 (inclusive)\n",
    "while num <= 10:\n",
    "    # Calculate sum and product\n",
    "    sum += num\n",
    "    product *= num\n",
    "    \n",
    "    # Increment counter\n",
    "    num += 1\n",
    "\n",
    "# Print the sum and product\n",
    "print(\"Sum:\", sum)\n",
    "print(\"Product:\", product)\n"
   ]
  },
  {
   "cell_type": "markdown",
   "id": "812c2e75-e097-440a-89f0-639de22955ea",
   "metadata": {},
   "source": [
    "<!--  Q.3 CREATE a python program to compute the electricity bill for a household the per unit charges in rupees are as follows: for the first 100 unit the user will be charges RS 4.5 per unit for the next 100 unit the user wil be charged RS: 6 per unit and for the next 100 unit the user will be charged RS.10 per unit after 300 unit and above the user will be charged rs.20 per unit.you are required to take the unit of electricity consumed in the month from the user as input.your program must be pass this test case: when the unit the electricity consumed  by the user in a month is 310 the total electricity bill should be 2250. --> -->"
   ]
  },
  {
   "cell_type": "markdown",
   "id": "b96a1193-fc1d-4920-8f8c-d98a81d2990a",
   "metadata": {},
   "source": [
    "# Q.3 CREATE a python program to compute the electricity bill for a household the per unit charges in rupees are as follows: for the first 100 unit the user will be charges RS 4.5 per unit for the next 100 unit the user wil be charged RS: 6 per unit and for the next 100 unit the user will be charged RS.10 per unit after 300 unit and above the user will be charged rs.20 per unit.you are required to take the unit of electricity consumed in the month from the user as input.your program must be pass this test case: when the unit the electricity consumed  by the user in a month is 310 the total electricity bill should be 2250."
   ]
  },
  {
   "cell_type": "code",
   "execution_count": 6,
   "id": "40b96dd7-d9ad-421a-b4a2-ac694215e085",
   "metadata": {},
   "outputs": [
    {
     "name": "stdin",
     "output_type": "stream",
     "text": [
      "Enter the units consumed:  300\n"
     ]
    },
    {
     "name": "stdout",
     "output_type": "stream",
     "text": [
      "Electricity Bill: Rs. 2050.00\n"
     ]
    }
   ],
   "source": [
    "def calculate_electricity_bill(units):\n",
    "    # Constants\n",
    "    rate_first_100_units = 4.5  # Per unit charge for first 100 units\n",
    "    rate_next_100_units = 6.0  # Per unit charge for next 100 units\n",
    "    rate_next_100_units_after_200 = 10.0  # Per unit charge for units after 200\n",
    "    rate_above_300_units = 20.0  # Per unit charge for units above 300\n",
    "\n",
    "    # Check if units are less than or equal to 100\n",
    "    if units <= 100:\n",
    "        return units * rate_first_100_units\n",
    "    elif units <= 200:\n",
    "        # Calculate cost for first 100 units\n",
    "        cost_first_100_units = 100 * rate_first_100_units\n",
    "\n",
    "        # Calculate remaining units\n",
    "        remaining_units = units - 100\n",
    "\n",
    "        # Calculate cost for next 100 units\n",
    "        cost_next_100_units = remaining_units * rate_next_100_units\n",
    "\n",
    "        # Calculate total cost\n",
    "        total_cost = cost_first_100_units + cost_next_100_units\n",
    "\n",
    "        return total_cost\n",
    "    elif units <= 300:\n",
    "        # Calculate cost for first 100 units\n",
    "        cost_first_100_units = 100 * rate_first_100_units\n",
    "\n",
    "        # Calculate cost for next 100 units\n",
    "        cost_next_100_units = 100 * rate_next_100_units\n",
    "\n",
    "        # Calculate remaining units\n",
    "        remaining_units = units - 200\n",
    "\n",
    "        # Calculate cost for next 100 units after 200 units\n",
    "        cost_next_100_units_after_200 = remaining_units * rate_next_100_units_after_200\n",
    "\n",
    "        # Calculate total cost\n",
    "        total_cost = cost_first_100_units + cost_next_100_units + cost_next_100_units_after_200\n",
    "\n",
    "        return total_cost\n",
    "    else:\n",
    "        # Calculate cost for first 100 units\n",
    "        cost_first_100_units = 100 * rate_first_100_units\n",
    "\n",
    "        # Calculate cost for next 100 units\n",
    "        cost_next_100_units = 100 * rate_next_100_units\n",
    "\n",
    "        # Calculate cost for next 100 units after 200 units\n",
    "        cost_next_100_units_after_200 = 100 * rate_next_100_units_after_200\n",
    "\n",
    "        # Calculate remaining units\n",
    "        remaining_units = units - 300\n",
    "\n",
    "        # Calculate cost for units above 300 units\n",
    "        cost_above_300_units = remaining_units * rate_above_300_units\n",
    "\n",
    "        # Calculate total cost\n",
    "        total_cost = cost_first_100_units + cost_next_100_units + cost_next_100_units_after_200 + cost_above_300_units\n",
    "\n",
    "        return total_cost\n",
    "\n",
    "\n",
    "# Input units consumed\n",
    "units = int(input(\"Enter the units consumed: \"))\n",
    "\n",
    "# Call the function to calculate electricity bill\n",
    "bill_amount = calculate_electricity_bill(units)\n",
    "\n",
    "# Display the electricity bill\n",
    "print(\"Electricity Bill: Rs. {:.2f}\".format(bill_amount))\n"
   ]
  },
  {
   "cell_type": "markdown",
   "id": "39406d99-da20-42fd-8628-8a0c5230e101",
   "metadata": {},
   "source": [
    "<!-- Q.4 CREATE A LIST OF NUMBER FROM 1 TO 100 USE FOR LOOP AND WHILE LOOP TO CALCULATE THE CUBE OF EACH  NUMBER AND IF THE CUBE OF THAT NUMBER IS DIVISIBLE BY 4 OR 5 THEN APPEND THAT NUMBER IN A LIST AND PRINT THAT LIST "
   ]
  },
  {
   "cell_type": "markdown",
   "id": "abef0dfb-8f4f-4e12-963f-aecde4676b94",
   "metadata": {},
   "source": [
    "# Q.4 CREATE A LIST OF NUMBER FROM 1 TO 100 USE FOR LOOP AND WHILE LOOP TO CALCULATE THE CUBE OF EACH  NUMBER AND IF THE CUBE OF THAT NUMBER IS DIVISIBLE BY 4 OR 5 THEN APPEND THAT NUMBER IN A LIST AND PRINT THAT LIST"
   ]
  },
  {
   "cell_type": "code",
   "execution_count": 7,
   "id": "d978f0ae-9c39-4c21-9167-b21a3ee58491",
   "metadata": {},
   "outputs": [
    {
     "name": "stdout",
     "output_type": "stream",
     "text": [
      "[2, 4, 5, 6, 8, 10, 12, 14, 15, 16, 18, 20, 22, 24, 25, 26, 28, 30, 32, 34, 35, 36, 38, 40, 42, 44, 45, 46, 48, 50, 52, 54, 55, 56, 58, 60, 62, 64, 65, 66, 68, 70, 72, 74, 75, 76, 78, 80, 82, 84, 85, 86, 88, 90, 92, 94, 95, 96, 98, 100]\n"
     ]
    }
   ],
   "source": [
    "# Using for loop\n",
    "cubes_divisible_by_4_or_5 = []  # List to store numbers whose cubes are divisible by 4 or 5\n",
    "\n",
    "for num in range(1, 101):\n",
    "    cube = num ** 3  # Calculating cube of the number\n",
    "    if cube % 4 == 0 or cube % 5 == 0:  # Checking if cube is divisible by 4 or 5\n",
    "        cubes_divisible_by_4_or_5.append(num)  # Appending number to the list\n",
    "\n",
    "print(cubes_divisible_by_4_or_5)  # Printing the list of numbers\n"
   ]
  },
  {
   "cell_type": "code",
   "execution_count": 8,
   "id": "1f235d07-8c9d-4017-97d8-90b0663d6cc7",
   "metadata": {},
   "outputs": [
    {
     "name": "stdout",
     "output_type": "stream",
     "text": [
      "[2, 4, 5, 6, 8, 10, 12, 14, 15, 16, 18, 20, 22, 24, 25, 26, 28, 30, 32, 34, 35, 36, 38, 40, 42, 44, 45, 46, 48, 50, 52, 54, 55, 56, 58, 60, 62, 64, 65, 66, 68, 70, 72, 74, 75, 76, 78, 80, 82, 84, 85, 86, 88, 90, 92, 94, 95, 96, 98, 100]\n"
     ]
    }
   ],
   "source": [
    "# Using while loop\n",
    "cubes_divisible_by_4_or_5 = []  # List to store numbers whose cubes are divisible by 4 or 5\n",
    "\n",
    "num = 1\n",
    "while num <= 100:\n",
    "    cube = num ** 3  # Calculating cube of the number\n",
    "    if cube % 4 == 0 or cube % 5 == 0:  # Checking if cube is divisible by 4 or 5\n",
    "        cubes_divisible_by_4_or_5.append(num)  # Appending number to the list\n",
    "    num += 1\n",
    "\n",
    "print(cubes_divisible_by_4_or_5)  # Printing the list of numbers\n"
   ]
  },
  {
   "cell_type": "markdown",
   "id": "c0d3df3f-5994-4a6b-8ce6-e40cbd3e3804",
   "metadata": {},
   "source": [
    "Q.5 ## Write a program to filter count vowels in the below- given string. string=\"i want to become a data scientist\"?"
   ]
  },
  {
   "cell_type": "code",
   "execution_count": 9,
   "id": "2188f58e-2906-4074-a043-dc8e36b6e5d3",
   "metadata": {},
   "outputs": [
    {
     "name": "stdout",
     "output_type": "stream",
     "text": [
      "The number of vowels in the given string is: 12\n"
     ]
    }
   ],
   "source": [
    "def count_vowels(string):\n",
    "    vowels = \"aeiouAEIOU\" # List of vowels (both uppercase and lowercase)\n",
    "    count = 0 # Initialize vowel count to zero\n",
    "\n",
    "    # Loop through each character in the string\n",
    "    for char in string:\n",
    "        if char in vowels: # Check if the character is a vowel\n",
    "            count += 1 # If so, increment the vowel count\n",
    "\n",
    "    return count\n",
    "\n",
    "# Test the function with the given string\n",
    "string = \"i want to become a data scientist\"\n",
    "vowel_count = count_vowels(string)\n",
    "print(\"The number of vowels in the given string is:\", vowel_count)\n"
   ]
  },
  {
   "cell_type": "code",
   "execution_count": null,
   "id": "a31f036d-5a10-44db-9dac-c4bf4d7dad4a",
   "metadata": {},
   "outputs": [],
   "source": [
    "## THANKS"
   ]
  }
 ],
 "metadata": {
  "kernelspec": {
   "display_name": "Python 3 (ipykernel)",
   "language": "python",
   "name": "python3"
  },
  "language_info": {
   "codemirror_mode": {
    "name": "ipython",
    "version": 3
   },
   "file_extension": ".py",
   "mimetype": "text/x-python",
   "name": "python",
   "nbconvert_exporter": "python",
   "pygments_lexer": "ipython3",
   "version": "3.10.8"
  }
 },
 "nbformat": 4,
 "nbformat_minor": 5
}
